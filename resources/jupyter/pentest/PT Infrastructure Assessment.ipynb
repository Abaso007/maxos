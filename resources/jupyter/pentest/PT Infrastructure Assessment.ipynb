{
 "cells": [
  {
   "cell_type": "code",
   "execution_count": 4,
   "id": "5b06862e",
   "metadata": {},
   "outputs": [],
   "source": [
    "import os\n",
    "!export TARGET_FILE=\"/home/user/target\"\n",
    "target_file = \"/home/user/target\""
   ]
  },
  {
   "cell_type": "code",
   "execution_count": null,
   "id": "319062ed",
   "metadata": {},
   "outputs": [],
   "source": [
    "### Public IP address\n",
    "os.environ[\"PATH\"] = os.environ[\"PATH\"] + \":/run/current-system/sw/bin\"\n",
    "\n",
    "!echo -n \"Public IP address: \"\n",
    "!curl https://ifconfig.me/"
   ]
  },
  {
   "cell_type": "code",
   "execution_count": null,
   "id": "6b46d6fb",
   "metadata": {},
   "outputs": [],
   "source": [
    "### Start time\n",
    "!echo -n \"Start time: \"\n",
    "!date"
   ]
  },
  {
   "cell_type": "code",
   "execution_count": null,
   "id": "92ffd624",
   "metadata": {},
   "outputs": [],
   "source": [
    "### Interface info\n",
    "!echo \"Interface info\"\n",
    "!echo \"--------------------\"\n",
    "!ip a"
   ]
  },
  {
   "cell_type": "code",
   "execution_count": null,
   "id": "d085f9e6",
   "metadata": {},
   "outputs": [],
   "source": [
    "### Targets\n",
    "!echo \"Target(s):\"\n",
    "!echo \"--------------------\"\n",
    "!cat $TARGET_FILE"
   ]
  },
  {
   "cell_type": "code",
   "execution_count": null,
   "id": "02b96c64",
   "metadata": {},
   "outputs": [],
   "source": [
    "### TLS scan (testssl.sh)\n",
    "!testssl.sh `cat $TARGET_FILE`"
   ]
  },
  {
   "cell_type": "code",
   "execution_count": 5,
   "id": "df8073a2",
   "metadata": {},
   "outputs": [
    {
     "name": "stderr",
     "output_type": "stream",
     "text": [
      "docker: Got permission denied while trying to connect to the Docker daemon socket at unix:///var/run/docker.sock: Post \"http://%2Fvar%2Frun%2Fdocker.sock/v1.24/containers/create\": dial unix /var/run/docker.sock: connect: permission denied.\n",
      "See 'docker run --help'.\n"
     ]
    }
   ],
   "source": [
    "### Screenshot targets (EyeWitness)\n",
    "with open(target_file) as file:\n",
    "    for target in file:\n",
    "        if \"http://\" in target:\n",
    "            continue\n",
    "        else:\n",
    "            target = \"http://\" + target\n",
    "        os.system(\"docker run --rm -v $PWD:/tmp/EyeWitness eyewitness \" + target.rstrip() + \" -d /tmp/EyeWitness/eyewitness\")"
   ]
  },
  {
   "cell_type": "code",
   "execution_count": null,
   "id": "96dfc674",
   "metadata": {},
   "outputs": [],
   "source": [
    "### Port scan (nmap)\n",
    "!nmap -A -T4 -iL $TARGET_FILE"
   ]
  }
 ],
 "metadata": {
  "kernelspec": {
   "display_name": "Python 3",
   "language": "python",
   "name": "python3"
  },
  "language_info": {
   "codemirror_mode": {
    "name": "ipython",
    "version": 3
   },
   "file_extension": ".py",
   "mimetype": "text/x-python",
   "name": "python",
   "nbconvert_exporter": "python",
   "pygments_lexer": "ipython3",
   "version": "3.9.13"
  }
 },
 "nbformat": 4,
 "nbformat_minor": 5
}
