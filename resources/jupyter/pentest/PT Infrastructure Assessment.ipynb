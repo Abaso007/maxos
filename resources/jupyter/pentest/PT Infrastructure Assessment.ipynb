{
 "cells": [
  {
   "cell_type": "markdown",
   "id": "eca86b33",
   "metadata": {},
   "source": [
    "# Fast Infrastructure Assessment\n",
    "- Author: Aidan Marlin\n",
    "- Date: 20220606\n",
    "- Version: 1.0\n",
    "- Description: Jupyter Notebook to automate the execution of key OSINT processes"
   ]
  },
  {
   "cell_type": "code",
   "execution_count": null,
   "id": "5b06862e",
   "metadata": {},
   "outputs": [],
   "source": [
    "target = \"www.bing.com\"\n",
    "port = 443\n",
    "ffuf_subdomain_target = \"FUZZ.bing.com\"\n",
    "subfinder_target = \"bing.com\"\n",
    "\n",
    "### No need to modify from here\n",
    "ffuf_subdomain_target_https = \"https://\" + ffuf_subdomain_target\n",
    "ffuf_subdomain_target_http = \"http://\" + ffuf_subdomain_target\n",
    "ffuf_directory_brute = target + \"/FUZZ\"\n",
    "http_target = \"http://\" + target\n",
    "https_target = \"https://\" + target\n",
    "\n",
    "!mkdir -p tools/ffuf_subdomain\n",
    "!mkdir -p tools/ffuf_directory\n",
    "!mkdir -p tools/nmap\n",
    "!mkdir -p tools/puppeteer\n",
    "!mkdir -p tools/subfinder\n",
    "!mkdir -p tools/testssl\n"
   ]
  },
  {
   "cell_type": "markdown",
   "id": "5b05b273",
   "metadata": {},
   "source": [
    "# Target"
   ]
  },
  {
   "cell_type": "code",
   "execution_count": null,
   "id": "d085f9e6",
   "metadata": {},
   "outputs": [],
   "source": [
    "print(target)\n"
   ]
  },
  {
   "cell_type": "markdown",
   "id": "db3a3b53",
   "metadata": {},
   "source": [
    "# Pentester Details"
   ]
  },
  {
   "cell_type": "markdown",
   "id": "b78ed5e0",
   "metadata": {},
   "source": [
    "## IP Address"
   ]
  },
  {
   "cell_type": "code",
   "execution_count": null,
   "id": "319062ed",
   "metadata": {},
   "outputs": [],
   "source": [
    "import os\n",
    "os.environ[\"PATH\"] = os.environ[\"PATH\"] + \":/run/current-system/sw/bin\"\n",
    "\n",
    "!curl https://ifconfig.me/\n"
   ]
  },
  {
   "cell_type": "markdown",
   "id": "dd1d9f0a",
   "metadata": {},
   "source": [
    "## Start Time"
   ]
  },
  {
   "cell_type": "code",
   "execution_count": null,
   "id": "6b46d6fb",
   "metadata": {},
   "outputs": [],
   "source": [
    "!date\n"
   ]
  },
  {
   "cell_type": "markdown",
   "id": "df6dc4e3",
   "metadata": {},
   "source": [
    "## Interface Info"
   ]
  },
  {
   "cell_type": "code",
   "execution_count": null,
   "id": "92ffd624",
   "metadata": {},
   "outputs": [],
   "source": [
    "!ip a\n"
   ]
  },
  {
   "cell_type": "markdown",
   "id": "b261f854",
   "metadata": {},
   "source": [
    "# Web"
   ]
  },
  {
   "cell_type": "markdown",
   "id": "204a41c0",
   "metadata": {},
   "source": [
    "## Screenshot"
   ]
  },
  {
   "cell_type": "code",
   "execution_count": null,
   "id": "c95230df",
   "metadata": {},
   "outputs": [],
   "source": [
    "os.system(\"docker run -u root --shm-size 1G --rm -v \" + os.getcwd() + \"/tools/puppeteer:/screenshots alekzonder/puppeteer:latest screenshot \" + https_target + \":\" + str(port) + \" 1024x768\")\n"
   ]
  },
  {
   "cell_type": "markdown",
   "id": "df11a3c5",
   "metadata": {},
   "source": [
    "![Target](tools/puppeteer/screenshot_1024_768.png)\n"
   ]
  },
  {
   "cell_type": "markdown",
   "id": "bc0ec38d",
   "metadata": {},
   "source": [
    "## WhatWeb"
   ]
  },
  {
   "cell_type": "code",
   "execution_count": null,
   "id": "36cfe5f1",
   "metadata": {
    "scrolled": true
   },
   "outputs": [],
   "source": [
    "!docker run --rm guidelacour/whatweb ./whatweb {https_target}:{port}\n"
   ]
  },
  {
   "cell_type": "markdown",
   "id": "a6bbe6d9",
   "metadata": {},
   "source": [
    "# Fuzzing"
   ]
  },
  {
   "cell_type": "markdown",
   "id": "1c2dde43",
   "metadata": {},
   "source": [
    "## Subfinder"
   ]
  },
  {
   "cell_type": "code",
   "execution_count": null,
   "id": "cc2d815a",
   "metadata": {},
   "outputs": [],
   "source": [
    "!subfinder -d {subfinder_target} -o tools/subfinder/results.txt\n"
   ]
  },
  {
   "cell_type": "markdown",
   "id": "f82dc603",
   "metadata": {},
   "source": [
    "## ffuf (subdomains)"
   ]
  },
  {
   "cell_type": "code",
   "execution_count": null,
   "id": "c755d6d7",
   "metadata": {},
   "outputs": [],
   "source": [
    "!echo ffuf -s -of all -w /home/user/git/wordlists/SecLists/Discovery/DNS/subdomains-top1million-5000.txt -u https://{ffuf_subdomain_target} -od tools/ffuf_subdomain\n",
    "!echo \"`find tools/ffuf_subdomain -type f | wc -l` responses worth investigating..\"\n",
    "!grep \"Host: \" tools/ffuf_subdomain -R\n"
   ]
  },
  {
   "cell_type": "markdown",
   "id": "6078eb74",
   "metadata": {},
   "source": [
    "## ffuf (directory brute)\n"
   ]
  },
  {
   "cell_type": "code",
   "execution_count": null,
   "id": "19bb27ed",
   "metadata": {},
   "outputs": [],
   "source": [
    "!ffuf -ac -sf -of all -w /home/user/git/wordlists/SecLists/Discovery/Web-Content/raft-large-directories.txt -u https://{ffuf_directory_brute}:{port} -od tools/ffuf_directory\n",
    "!echo \"`find tools/ffuf_directory -type f | wc -l` responses worth investigating..\"\n",
    "!find tools/ffuf_directory -type f -exec grep -hE 'GET |^HTTP/' {} \\; -exec echo \\;\n"
   ]
  },
  {
   "cell_type": "markdown",
   "id": "0a159a8c",
   "metadata": {},
   "source": [
    "# Scanning"
   ]
  },
  {
   "cell_type": "markdown",
   "id": "b3e99455",
   "metadata": {},
   "source": [
    "## TLS Scan"
   ]
  },
  {
   "cell_type": "code",
   "execution_count": null,
   "id": "02b96c64",
   "metadata": {},
   "outputs": [],
   "source": [
    "!testssl.sh {target}:{port}\n"
   ]
  },
  {
   "cell_type": "markdown",
   "id": "5b91e5ab",
   "metadata": {},
   "source": [
    "## Port Scan (TCP)"
   ]
  },
  {
   "cell_type": "code",
   "execution_count": null,
   "id": "96dfc674",
   "metadata": {},
   "outputs": [],
   "source": [
    "!nmap -A -T4 {target} -oA tools/nmap/output\n"
   ]
  },
  {
   "cell_type": "markdown",
   "id": "deb4e8cb",
   "metadata": {},
   "source": [
    "## Port Scan (UDP)"
   ]
  },
  {
   "cell_type": "code",
   "execution_count": null,
   "id": "29852d37",
   "metadata": {},
   "outputs": [],
   "source": [
    "!sudo nmap -sU -A -T4 {target} -oA tools/nmap/output"
   ]
  },
  {
   "cell_type": "markdown",
   "id": "2e1ba49c",
   "metadata": {},
   "source": [
    "# End Time"
   ]
  },
  {
   "cell_type": "code",
   "execution_count": null,
   "id": "a5f7b13f",
   "metadata": {},
   "outputs": [],
   "source": [
    "!date"
   ]
  }
 ],
 "metadata": {
  "kernelspec": {
   "display_name": "Python 3",
   "language": "python",
   "name": "python3"
  },
  "language_info": {
   "codemirror_mode": {
    "name": "ipython",
    "version": 3
   },
   "file_extension": ".py",
   "mimetype": "text/x-python",
   "name": "python",
   "nbconvert_exporter": "python",
   "pygments_lexer": "ipython3",
   "version": "3.9.13"
  }
 },
 "nbformat": 4,
 "nbformat_minor": 5
}
