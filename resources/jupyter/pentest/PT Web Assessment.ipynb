{
 "cells": [
  {
   "cell_type": "markdown",
   "id": "eca86b33",
   "metadata": {},
   "source": [
    "# Web Assessment\n",
    "- Author: Aidan Marlin\n",
    "- Date: 20220623\n",
    "- Version: 1.4\n",
    "- Description: Jupyter Notebook to automate the execution of web scans"
   ]
  },
  {
   "cell_type": "code",
   "execution_count": null,
   "id": "5b06862e",
   "metadata": {},
   "outputs": [],
   "source": [
    "target = \"www.bing.com\"\n",
    "top_target = \"bing.com\"\n",
    "ffuf_subdomain_target = \"FUZZ.bing.com\"\n",
    "port = 443\n",
    "### Set to 0 if scanning a subdomain\n",
    "subdomain_recon = 1\n",
    "\n",
    "###\n",
    "### No need to modify from here\n",
    "###\n",
    "import socket\n",
    "import os\n",
    "\n",
    "os.environ[\"PATH\"] = os.environ[\"PATH\"] + \":/run/current-system/sw/bin\"\n",
    "\n",
    "target_ip = socket.gethostbyname(target) \n",
    "ffuf_subdomain_target_https = \"https://\" + ffuf_subdomain_target\n",
    "ffuf_subdomain_target_http = \"http://\" + ffuf_subdomain_target\n",
    "ffuf_directory_brute = target + \":\" + str(port) + \"/FUZZ\"\n",
    "http_target = \"http://\" + target\n",
    "https_target = \"https://\" + target\n",
    "\n",
    "!mkdir -p tools/amass\n",
    "!mkdir -p tools/ctfr\n",
    "!mkdir -p tools/ffuf_subdomain\n",
    "!mkdir -p tools/ffuf_directory\n",
    "!mkdir -p tools/knockpy\n",
    "!mkdir -p tools/nettacker\n",
    "!mkdir -p tools/nikto\n",
    "!mkdir -p tools/photon\n",
    "!mkdir -p tools/puppeteer\n",
    "!mkdir -p tools/subfinder\n",
    "!mkdir -p tools/sn1per\n",
    "!mkdir -p tools/testssl\n",
    "!mkdir -p tools/theharvester\n",
    "\n",
    "def read_file(location):\n",
    "    try:\n",
    "        with open(location) as f:\n",
    "            text = f.read()\n",
    "            return text\n",
    "    except:\n",
    "        return False\n"
   ]
  },
  {
   "cell_type": "markdown",
   "id": "5b05b273",
   "metadata": {},
   "source": [
    "# Target"
   ]
  },
  {
   "cell_type": "code",
   "execution_count": null,
   "id": "d085f9e6",
   "metadata": {},
   "outputs": [],
   "source": [
    "print(target)\n",
    "print(target_ip)\n"
   ]
  },
  {
   "cell_type": "markdown",
   "id": "738fdd63",
   "metadata": {},
   "source": [
    "## Whois"
   ]
  },
  {
   "cell_type": "code",
   "execution_count": null,
   "id": "c1cc7050",
   "metadata": {},
   "outputs": [],
   "source": [
    "!dig {target}\n"
   ]
  },
  {
   "cell_type": "markdown",
   "id": "db3a3b53",
   "metadata": {},
   "source": [
    "# Pentester Details"
   ]
  },
  {
   "cell_type": "markdown",
   "id": "b78ed5e0",
   "metadata": {},
   "source": [
    "## IP Address"
   ]
  },
  {
   "cell_type": "code",
   "execution_count": null,
   "id": "319062ed",
   "metadata": {},
   "outputs": [],
   "source": [
    "!curl https://ifconfig.me/\n"
   ]
  },
  {
   "cell_type": "markdown",
   "id": "dd1d9f0a",
   "metadata": {},
   "source": [
    "## Start Time"
   ]
  },
  {
   "cell_type": "code",
   "execution_count": null,
   "id": "6b46d6fb",
   "metadata": {},
   "outputs": [],
   "source": [
    "!date\n"
   ]
  },
  {
   "cell_type": "markdown",
   "id": "df6dc4e3",
   "metadata": {},
   "source": [
    "## Interface Info"
   ]
  },
  {
   "cell_type": "code",
   "execution_count": null,
   "id": "92ffd624",
   "metadata": {},
   "outputs": [],
   "source": [
    "!ip a\n"
   ]
  },
  {
   "cell_type": "markdown",
   "id": "b261f854",
   "metadata": {},
   "source": [
    "# Scans"
   ]
  },
  {
   "cell_type": "markdown",
   "id": "b0e619d7",
   "metadata": {},
   "source": [
    "## ctfr"
   ]
  },
  {
   "cell_type": "code",
   "execution_count": null,
   "id": "32fe500d",
   "metadata": {},
   "outputs": [],
   "source": [
    "!time docker run --rm -v \"`pwd`/tools/ctfr/:/mnt\" unapibageek/ctfr -d $top_target -o /mnt/results.txt\n"
   ]
  },
  {
   "cell_type": "markdown",
   "id": "3edefb1e",
   "metadata": {},
   "source": [
    "## Corsy"
   ]
  },
  {
   "cell_type": "code",
   "execution_count": null,
   "id": "7cc53945",
   "metadata": {},
   "outputs": [],
   "source": [
    "!time python \"/home/user/git/pentest-tools/Corsy/corsy.py\" -u {https_target}:{port}\n"
   ]
  },
  {
   "cell_type": "markdown",
   "id": "de18736b",
   "metadata": {},
   "source": [
    "## waybackpy"
   ]
  },
  {
   "cell_type": "code",
   "execution_count": null,
   "id": "d39ff058",
   "metadata": {},
   "outputs": [],
   "source": [
    "!time docker run -it --rm secsi/waybackpy --url {target} --oldest\n"
   ]
  },
  {
   "cell_type": "markdown",
   "id": "177c28af",
   "metadata": {},
   "source": [
    "## getjs"
   ]
  },
  {
   "cell_type": "code",
   "execution_count": null,
   "id": "08de3e89",
   "metadata": {},
   "outputs": [],
   "source": [
    "!time docker run -it --rm secsi/getjs --url {https_target}\n"
   ]
  },
  {
   "cell_type": "markdown",
   "id": "655068d7",
   "metadata": {},
   "source": [
    "## httpx"
   ]
  },
  {
   "cell_type": "code",
   "execution_count": null,
   "id": "745a2943",
   "metadata": {},
   "outputs": [],
   "source": [
    "!time echo {target} | httpx -silent -status-code -title -tech-detect -ip -asn\n"
   ]
  },
  {
   "cell_type": "markdown",
   "id": "b27572ad",
   "metadata": {},
   "source": [
    "## dnstwist"
   ]
  },
  {
   "cell_type": "code",
   "execution_count": null,
   "id": "e4dad26a",
   "metadata": {},
   "outputs": [],
   "source": [
    "!time docker run --rm elceef/dnstwist {target}\n"
   ]
  },
  {
   "cell_type": "markdown",
   "id": "d88dcb95",
   "metadata": {},
   "source": [
    "## Gospider"
   ]
  },
  {
   "cell_type": "code",
   "execution_count": null,
   "id": "a74ff08d",
   "metadata": {},
   "outputs": [],
   "source": [
    "!time docker run -it --rm secsi/gospider -s {https_target}\n"
   ]
  },
  {
   "cell_type": "markdown",
   "id": "a1aeee1b",
   "metadata": {},
   "source": [
    "## CloudFail"
   ]
  },
  {
   "cell_type": "code",
   "execution_count": null,
   "id": "c1b4cbae",
   "metadata": {},
   "outputs": [],
   "source": [
    "!time docker run -it --rm secsi/cloudfail -u -t {target}\n"
   ]
  },
  {
   "cell_type": "markdown",
   "id": "2e96140d",
   "metadata": {},
   "source": [
    "## CMSeek"
   ]
  },
  {
   "cell_type": "code",
   "execution_count": null,
   "id": "d76fdff9",
   "metadata": {},
   "outputs": [],
   "source": [
    "!time docker run -it --rm secsi/cmseek --batch -u {https_target}\n"
   ]
  },
  {
   "cell_type": "markdown",
   "id": "bc0ec38d",
   "metadata": {},
   "source": [
    "## WhatWeb"
   ]
  },
  {
   "cell_type": "code",
   "execution_count": null,
   "id": "36cfe5f1",
   "metadata": {
    "scrolled": true
   },
   "outputs": [],
   "source": [
    "!time docker run --rm guidelacour/whatweb ./whatweb {https_target}:{port}\n"
   ]
  },
  {
   "cell_type": "markdown",
   "id": "af3ae498",
   "metadata": {},
   "source": [
    "## hakrawler"
   ]
  },
  {
   "cell_type": "code",
   "execution_count": null,
   "id": "5017cccf",
   "metadata": {},
   "outputs": [],
   "source": [
    "!time echo {https_target} | hakrawler | sort | uniq\n"
   ]
  },
  {
   "cell_type": "markdown",
   "id": "1c2dde43",
   "metadata": {},
   "source": [
    "## Subfinder"
   ]
  },
  {
   "cell_type": "code",
   "execution_count": null,
   "id": "d8c99c4f",
   "metadata": {},
   "outputs": [],
   "source": [
    "%%bash -s \"$subdomain_recon\" \"$top_target\"\n",
    "if [[ \"$1\" == \"1\" ]]; then\n",
    "    # Scan\n",
    "    time subfinder -d $2 -silent -active -oI -oJ -o tools/subfinder/results.txt 2>&1 >/dev/null\n",
    "    # Output\n",
    "    cat tools/subfinder/results.txt | jq -r '\"Domain:  \\(.host)\\nIP addr: \\(.ip)\\n\"'\n",
    "fi\n"
   ]
  },
  {
   "cell_type": "markdown",
   "id": "b58b8ab2",
   "metadata": {},
   "source": [
    "## Backup File Artifacts Checker"
   ]
  },
  {
   "cell_type": "code",
   "execution_count": null,
   "id": "f6abdfbd",
   "metadata": {},
   "outputs": [],
   "source": [
    "!time docker run -it --rm secsi/bfac --no-text --url {https_target}\n"
   ]
  },
  {
   "cell_type": "markdown",
   "id": "204a41c0",
   "metadata": {},
   "source": [
    "## Screenshot"
   ]
  },
  {
   "cell_type": "code",
   "execution_count": null,
   "id": "c95230df",
   "metadata": {},
   "outputs": [],
   "source": [
    "import shutil\n",
    "from pathlib import Path\n",
    "home = str(Path.home())\n",
    "\n",
    "os.system(\"docker run -u root --shm-size 1G --rm -v \\\"\" + os.getcwd() + \"/tools/puppeteer:/screenshots\\\" alekzonder/puppeteer:latest screenshot \" + https_target + \":\" + str(port) + \" 1024x768\")\n",
    "if not os.path.isfile(\"tools/puppeteer/screenshot_1024_768.png\"):\n",
    "    shutil.copyfile(home + \"/git/nixos/resources/404.png\", \"tools/puppeteer/screenshot_1024_768.png\")\n"
   ]
  },
  {
   "cell_type": "markdown",
   "id": "df11a3c5",
   "metadata": {},
   "source": [
    "![Target screenshot](tools/puppeteer/screenshot_1024_768.png)\n"
   ]
  },
  {
   "cell_type": "markdown",
   "id": "da2b3fa6",
   "metadata": {},
   "source": [
    "## Email Enumeration"
   ]
  },
  {
   "cell_type": "code",
   "execution_count": null,
   "id": "143bb8df",
   "metadata": {},
   "outputs": [],
   "source": [
    "!time docker run --rm infoga --domain $top_target --source all --breach -v 2\n"
   ]
  },
  {
   "cell_type": "markdown",
   "id": "1e834531",
   "metadata": {},
   "source": [
    "## amass"
   ]
  },
  {
   "cell_type": "code",
   "execution_count": null,
   "id": "68b98133",
   "metadata": {},
   "outputs": [],
   "source": [
    "!time amass enum -silent -nocolor -active -json tools/amass/results.txt -d {top_target} -p {port}\n"
   ]
  },
  {
   "cell_type": "code",
   "execution_count": null,
   "id": "e2ff7de4",
   "metadata": {},
   "outputs": [],
   "source": [
    "!cat tools/amass/results.txt | jq -r '\"##### \\(.name)\\nIP addr: \\(.addresses|.[].ip)\\nCIDR: \\(.addresses|.[].cidr)\\nASN: \\(.addresses|.[].asn)\\nDesc: \\(.addresses|.[].desc)\\n\"'\n"
   ]
  },
  {
   "cell_type": "markdown",
   "id": "a7b46010",
   "metadata": {},
   "source": [
    "## theHarvester"
   ]
  },
  {
   "cell_type": "code",
   "execution_count": null,
   "id": "c0872fa4",
   "metadata": {
    "scrolled": true
   },
   "outputs": [],
   "source": [
    "!time docker run --rm -v \"`pwd`/tools/theharvester:/mnt\" simonthomas/theharvester:latest theharvester -d $top_target -b all -f /mnt/results.html\n"
   ]
  },
  {
   "cell_type": "markdown",
   "id": "f82dc603",
   "metadata": {},
   "source": [
    "## ffuf (subdomains)"
   ]
  },
  {
   "cell_type": "code",
   "execution_count": null,
   "id": "c755d6d7",
   "metadata": {},
   "outputs": [],
   "source": [
    "%%bash -s \"$subdomain_recon\" \"$ffuf_subdomain_target\"\n",
    "\n",
    "if [[ \"$1\" == \"1\" ]]; then\n",
    "    echo https://$2\n",
    "    # Scan\n",
    "    time ffuf -s -of all -w /home/user/git/wordlists/SecLists/Discovery/DNS/subdomains-top1million-5000.txt -u https://$2 -od tools/ffuf_subdomain\n",
    "    echo \"`find tools/ffuf_subdomain -type f | wc -l` responses worth investigating..\"\n",
    "else\n",
    "    echo \"Subdomain scans have been disabled.\"\n",
    "fi\n"
   ]
  },
  {
   "cell_type": "markdown",
   "id": "f45290d6",
   "metadata": {},
   "source": [
    "## Knockpy"
   ]
  },
  {
   "cell_type": "code",
   "execution_count": null,
   "id": "e3b78039",
   "metadata": {},
   "outputs": [],
   "source": [
    "!time docker run -it --rm -v \"`pwd`/tools/knockpy:/mnt/\" secsi/knockpy -o /mnt {top_target} 2>&1 > /dev/null\n"
   ]
  },
  {
   "cell_type": "code",
   "execution_count": null,
   "id": "7dfe8245",
   "metadata": {},
   "outputs": [],
   "source": [
    "!find tools/knockpy -type f -exec cat {} \\;\n"
   ]
  },
  {
   "cell_type": "markdown",
   "id": "fd1291f5",
   "metadata": {},
   "source": [
    "## photon"
   ]
  },
  {
   "cell_type": "code",
   "execution_count": null,
   "id": "34cea7d3",
   "metadata": {},
   "outputs": [],
   "source": [
    "!time photon --keys -u {https_target} -l 3 -t 100 --wayback -o tools/photon/{target}\n"
   ]
  },
  {
   "cell_type": "markdown",
   "id": "8c3169ba",
   "metadata": {},
   "source": [
    "### files.txt"
   ]
  },
  {
   "cell_type": "code",
   "execution_count": null,
   "id": "fd1a5fa6",
   "metadata": {},
   "outputs": [],
   "source": [
    "print(read_file(\"tools/photon/\" + target + \"/files.txt\"))\n"
   ]
  },
  {
   "cell_type": "markdown",
   "id": "ac01db1e",
   "metadata": {},
   "source": [
    "### fuzzable.txt"
   ]
  },
  {
   "cell_type": "code",
   "execution_count": null,
   "id": "c9adc2fd",
   "metadata": {},
   "outputs": [],
   "source": [
    "print(read_file(\"tools/photon/\" + target + \"/fuzzable.txt\"))\n"
   ]
  },
  {
   "cell_type": "markdown",
   "id": "943758c2",
   "metadata": {},
   "source": [
    "### intel.txt"
   ]
  },
  {
   "cell_type": "code",
   "execution_count": null,
   "id": "ac981a1b",
   "metadata": {},
   "outputs": [],
   "source": [
    "print(read_file(\"tools/photon/\" + target + \"/intel.txt\"))\n"
   ]
  },
  {
   "cell_type": "markdown",
   "id": "85edd93c",
   "metadata": {},
   "source": [
    "### scripts.txt"
   ]
  },
  {
   "cell_type": "code",
   "execution_count": null,
   "id": "9a02a6a6",
   "metadata": {},
   "outputs": [],
   "source": [
    "print(read_file(\"tools/photon/\" + target + \"/scripts.txt\"))\n"
   ]
  },
  {
   "cell_type": "markdown",
   "id": "8a354de7",
   "metadata": {},
   "source": [
    "### external.txt"
   ]
  },
  {
   "cell_type": "code",
   "execution_count": null,
   "id": "4c5105f5",
   "metadata": {
    "scrolled": false
   },
   "outputs": [],
   "source": [
    "!time cat tools/photon/{target}/external.txt | httpx -silent -status-code -location -title -tech-detect -cl -ct -fc 401,403,404\n"
   ]
  },
  {
   "cell_type": "markdown",
   "id": "d1f710c2",
   "metadata": {},
   "source": [
    "### internal.txt"
   ]
  },
  {
   "cell_type": "code",
   "execution_count": null,
   "id": "a9701e49",
   "metadata": {
    "scrolled": true
   },
   "outputs": [],
   "source": [
    "!time cat tools/photon/{target}/internal.txt | httpx -silent -status-code -location -title -tech-detect -cl -ct -fc 401,403,404\n"
   ]
  },
  {
   "cell_type": "markdown",
   "id": "ec723313",
   "metadata": {},
   "source": [
    "## is-website-vulnerable"
   ]
  },
  {
   "cell_type": "code",
   "execution_count": null,
   "id": "5ac7a1e9",
   "metadata": {},
   "outputs": [],
   "source": [
    "!time docker run --rm lirantal/is-website-vulnerable:latest {https_target}\n"
   ]
  },
  {
   "cell_type": "markdown",
   "id": "da973a26",
   "metadata": {},
   "source": [
    "## dirsearch"
   ]
  },
  {
   "cell_type": "code",
   "execution_count": null,
   "id": "8698a906",
   "metadata": {},
   "outputs": [],
   "source": [
    "!time docker run -it --rm secsi/dirsearch -q -x 301 -u {https_target}\n"
   ]
  },
  {
   "cell_type": "markdown",
   "id": "79c7b379",
   "metadata": {},
   "source": [
    "## dvcs-ripper"
   ]
  },
  {
   "cell_type": "code",
   "execution_count": null,
   "id": "427e10b0",
   "metadata": {},
   "outputs": [],
   "source": [
    "!time docker run -it --rm secsi/dvcs-ripper ./rip-svn.pl -u {https_target}\n"
   ]
  },
  {
   "cell_type": "code",
   "execution_count": null,
   "id": "0c956cfa",
   "metadata": {},
   "outputs": [],
   "source": [
    "!time docker run -it --rm secsi/dvcs-ripper ./rip-cvs.pl -u {https_target}\n"
   ]
  },
  {
   "cell_type": "code",
   "execution_count": null,
   "id": "879a602d",
   "metadata": {},
   "outputs": [],
   "source": [
    "!time docker run -it --rm secsi/dvcs-ripper ./rip-bzr.pl -u {https_target}\n"
   ]
  },
  {
   "cell_type": "code",
   "execution_count": null,
   "id": "651ef2bf",
   "metadata": {},
   "outputs": [],
   "source": [
    "!time docker run -it --rm secsi/dvcs-ripper ./rip-hg.pl -u {https_target}\n"
   ]
  },
  {
   "cell_type": "code",
   "execution_count": null,
   "id": "1c1ca878",
   "metadata": {},
   "outputs": [],
   "source": [
    "!time docker run -it --rm secsi/dvcs-ripper ./rip-git.pl -u {https_target}\n"
   ]
  },
  {
   "cell_type": "markdown",
   "id": "dcd66497",
   "metadata": {},
   "source": [
    "## Dirhunt"
   ]
  },
  {
   "cell_type": "code",
   "execution_count": null,
   "id": "c8fd09f8",
   "metadata": {},
   "outputs": [],
   "source": [
    "!time docker run -it --rm secsi/dirhunt --progress-disabled {target} | grep -Ev \"No interesting files detected\"\n"
   ]
  },
  {
   "cell_type": "markdown",
   "id": "ec13eae5",
   "metadata": {},
   "source": [
    "## dnscan"
   ]
  },
  {
   "cell_type": "code",
   "execution_count": null,
   "id": "2a965c95",
   "metadata": {},
   "outputs": [],
   "source": [
    "%%bash -s \"$subdomain_recon\" \"$target\"\n",
    "\n",
    "if [[ \"$1\" == \"1\" ]]; then\n",
    "    time docker run -it --rm secsi/dnscan -d $2 -w subdomains-10000.txt -t 10 -R 1.0.0.1\n",
    "else\n",
    "    echo \"Subdomain scans have been disabled.\"\n",
    "fi\n"
   ]
  },
  {
   "cell_type": "markdown",
   "id": "363acc1f",
   "metadata": {},
   "source": [
    "## fierce"
   ]
  },
  {
   "cell_type": "code",
   "execution_count": 1,
   "id": "cea5b94e",
   "metadata": {},
   "outputs": [
    {
     "name": "stdout",
     "output_type": "stream",
     "text": [
      "NS: failure\n",
      "SOA: failure\n",
      "Failed to lookup NS/SOA, Domain does not exist\n",
      "docker run -it --rm secsi/fierce --domain {target}  0.02s user 0.00s system 0% cpu 1:00.63 total\n"
     ]
    }
   ],
   "source": [
    "!time docker run -it --rm secsi/fierce --domain {target}\n"
   ]
  },
  {
   "cell_type": "markdown",
   "id": "835361b4",
   "metadata": {},
   "source": [
    "## Nuclei"
   ]
  },
  {
   "cell_type": "code",
   "execution_count": null,
   "id": "8c300b96",
   "metadata": {},
   "outputs": [],
   "source": [
    "!time docker run --rm -v \"`pwd`:/mnt\" projectdiscovery/nuclei -u {https_target}:{port}\n"
   ]
  },
  {
   "cell_type": "markdown",
   "id": "b3e99455",
   "metadata": {},
   "source": [
    "## TLS Scan"
   ]
  },
  {
   "cell_type": "code",
   "execution_count": null,
   "id": "02b96c64",
   "metadata": {},
   "outputs": [],
   "source": [
    "!time testssl.sh -oA tools/testssl {target}:{port}\n"
   ]
  },
  {
   "cell_type": "markdown",
   "id": "e4bbec23",
   "metadata": {},
   "source": [
    "## Nettacker"
   ]
  },
  {
   "cell_type": "code",
   "execution_count": null,
   "id": "d1906096",
   "metadata": {},
   "outputs": [],
   "source": [
    "!time docker run -it --rm -v \"`pwd`/tools/nettacker:/usr/src/owaspnettacker/.data/results/\" nettacker python3 ./nettacker.py -m all -i {https_target}\n"
   ]
  },
  {
   "cell_type": "code",
   "execution_count": null,
   "id": "ed0c15b5",
   "metadata": {},
   "outputs": [],
   "source": [
    "!echo \"Full Nettacker results in file://`pwd`/tools/nettacker\"\n"
   ]
  },
  {
   "cell_type": "markdown",
   "id": "83213c93",
   "metadata": {},
   "source": [
    "## Raccoon"
   ]
  },
  {
   "cell_type": "code",
   "execution_count": null,
   "id": "9805a2e7",
   "metadata": {},
   "outputs": [],
   "source": [
    "!time docker run --rm evyatarmeged/raccoon:latest {https_target} --ignored-response-codes \"301,302,400,401,403,404,503,504\"\n"
   ]
  },
  {
   "cell_type": "markdown",
   "id": "6078eb74",
   "metadata": {},
   "source": [
    "## ffuf (directory brute)\n"
   ]
  },
  {
   "cell_type": "code",
   "execution_count": null,
   "id": "19bb27ed",
   "metadata": {},
   "outputs": [],
   "source": [
    "!echo https://{ffuf_directory_brute}\n",
    "!time ffuf -s -ac -sf -of all -w /home/user/git/wordlists/SecLists/Discovery/Web-Content/raft-large-directories.txt -u https://{ffuf_directory_brute} -od tools/ffuf_directory\n",
    "!echo \"`find tools/ffuf_directory -type f | wc -l` responses worth investigating..\"\n",
    "!find tools/ffuf_directory -type f -exec grep -hE 'GET |^HTTP/' {} \\; -exec echo \\;\n"
   ]
  },
  {
   "cell_type": "markdown",
   "id": "f2b21885",
   "metadata": {},
   "source": [
    "## dnsenum"
   ]
  },
  {
   "cell_type": "code",
   "execution_count": null,
   "id": "5a6531c6",
   "metadata": {},
   "outputs": [],
   "source": [
    "%%bash -s \"$subdomain_recon\" \"$top_target\"\n",
    "\n",
    "if [[ \"$1\" == \"1\" ]]; then\n",
    "    time docker run -it --rm guidelacour/dnsenum ./dnsenum.pl $2 --file dns.txt\n",
    "fi\n"
   ]
  },
  {
   "cell_type": "markdown",
   "id": "6318c562",
   "metadata": {},
   "source": [
    "# Manual"
   ]
  },
  {
   "cell_type": "markdown",
   "id": "1f1dd966",
   "metadata": {},
   "source": [
    "## OpenVAS"
   ]
  },
  {
   "cell_type": "markdown",
   "id": "85ede640",
   "metadata": {},
   "source": [
    "https://localhost:8030/login/login.html (admin / admin)"
   ]
  },
  {
   "cell_type": "markdown",
   "id": "f7f2817b",
   "metadata": {},
   "source": [
    "## Spiderfoot"
   ]
  },
  {
   "cell_type": "markdown",
   "id": "51a017dc",
   "metadata": {},
   "source": [
    "http://localhost:8060/"
   ]
  },
  {
   "cell_type": "markdown",
   "id": "80e123f2",
   "metadata": {},
   "source": [
    "## Nikto"
   ]
  },
  {
   "cell_type": "code",
   "execution_count": null,
   "id": "373e4673",
   "metadata": {},
   "outputs": [],
   "source": [
    "!echo docker run -it --rm --net=host -v \\\"`pwd`/tools/nikto:/mnt/\\\" sullo/nikto -ask No -nointeractive -Format json -output /mnt/nikto -h {https_target}\n"
   ]
  },
  {
   "cell_type": "markdown",
   "id": "b9924d6f",
   "metadata": {},
   "source": [
    "## sn1per"
   ]
  },
  {
   "cell_type": "markdown",
   "id": "2e516c53",
   "metadata": {},
   "source": [
    "Not run automatically because of large output and slow scan time"
   ]
  },
  {
   "cell_type": "code",
   "execution_count": null,
   "id": "f5d2a8dd",
   "metadata": {},
   "outputs": [],
   "source": [
    "!echo docker run -v \\\"`pwd`/tools/sn1per:/usr/share/sniper/loot/workspace/\\\" --rm -it xer0dayz/sn1per sniper -t {target}\n"
   ]
  },
  {
   "cell_type": "code",
   "execution_count": null,
   "id": "a763925c",
   "metadata": {},
   "outputs": [],
   "source": [
    "!echo find \\\"$PWD/tools/sn1per/\"*\"/output\\\" -type f -exec cat {} \\\\\\;\n"
   ]
  },
  {
   "cell_type": "markdown",
   "id": "2e1ba49c",
   "metadata": {},
   "source": [
    "# End Time"
   ]
  },
  {
   "cell_type": "code",
   "execution_count": null,
   "id": "a5f7b13f",
   "metadata": {},
   "outputs": [],
   "source": [
    "!date\n"
   ]
  }
 ],
 "metadata": {
  "kernelspec": {
   "display_name": "Python 3",
   "language": "python",
   "name": "python3"
  },
  "language_info": {
   "codemirror_mode": {
    "name": "ipython",
    "version": 3
   },
   "file_extension": ".py",
   "mimetype": "text/x-python",
   "name": "python",
   "nbconvert_exporter": "python",
   "pygments_lexer": "ipython3",
   "version": "3.9.13"
  }
 },
 "nbformat": 4,
 "nbformat_minor": 5
}
