{
 "cells": [
  {
   "cell_type": "markdown",
   "id": "eca86b33",
   "metadata": {},
   "source": [
    "# Web Assessment\n",
    "- Author: Aidan Marlin\n",
    "- Date: 20220610\n",
    "- Version: 1.0\n",
    "- Description: Jupyter Notebook to automate the execution of web scans"
   ]
  },
  {
   "cell_type": "code",
   "execution_count": null,
   "id": "5b06862e",
   "metadata": {},
   "outputs": [],
   "source": [
    "target = \"www.bing.com\"\n",
    "top_target = \"bing.com\"\n",
    "ffuf_subdomain_target = \"FUZZ.bing.com\"\n",
    "port = 443\n",
    "\n",
    "### No need to modify from here\n",
    "import socket\n",
    "import os\n",
    "\n",
    "os.environ[\"PATH\"] = os.environ[\"PATH\"] + \":/run/current-system/sw/bin\"\n",
    "\n",
    "target_ip = socket.gethostbyname(target) \n",
    "ffuf_subdomain_target_https = \"https://\" + ffuf_subdomain_target\n",
    "ffuf_subdomain_target_http = \"http://\" + ffuf_subdomain_target\n",
    "ffuf_directory_brute = target + \":\" + str(port) + \"/FUZZ\"\n",
    "http_target = \"http://\" + target\n",
    "https_target = \"https://\" + target\n",
    "\n",
    "!mkdir -p tools/amass\n",
    "!mkdir -p tools/ctfr\n",
    "!mkdir -p tools/ffuf_subdomain\n",
    "!mkdir -p tools/ffuf_directory\n",
    "!mkdir -p tools/nettacker\n",
    "!mkdir -p tools/nikto\n",
    "!mkdir -p tools/photon\n",
    "!mkdir -p tools/puppeteer\n",
    "!mkdir -p tools/subfinder\n",
    "!mkdir -p tools/sn1per\n",
    "!mkdir -p tools/testssl\n",
    "!mkdir -p tools/theharvester\n",
    "\n",
    "def read_file(location):\n",
    "    try:\n",
    "        with open(location) as f:\n",
    "            text = f.read()\n",
    "            print(text)\n",
    "    except:\n",
    "        print(\"No results.\")\n"
   ]
  },
  {
   "cell_type": "markdown",
   "id": "5b05b273",
   "metadata": {},
   "source": [
    "# Target"
   ]
  },
  {
   "cell_type": "code",
   "execution_count": null,
   "id": "d085f9e6",
   "metadata": {},
   "outputs": [],
   "source": [
    "print(target)\n",
    "print(target_ip)\n"
   ]
  },
  {
   "cell_type": "markdown",
   "id": "738fdd63",
   "metadata": {},
   "source": [
    "## Whois"
   ]
  },
  {
   "cell_type": "code",
   "execution_count": null,
   "id": "c1cc7050",
   "metadata": {},
   "outputs": [],
   "source": [
    "!dig {target}\n"
   ]
  },
  {
   "cell_type": "markdown",
   "id": "db3a3b53",
   "metadata": {},
   "source": [
    "# Pentester Details"
   ]
  },
  {
   "cell_type": "markdown",
   "id": "b78ed5e0",
   "metadata": {},
   "source": [
    "## IP Address"
   ]
  },
  {
   "cell_type": "code",
   "execution_count": null,
   "id": "319062ed",
   "metadata": {},
   "outputs": [],
   "source": [
    "!curl https://ifconfig.me/\n"
   ]
  },
  {
   "cell_type": "markdown",
   "id": "dd1d9f0a",
   "metadata": {},
   "source": [
    "## Start Time"
   ]
  },
  {
   "cell_type": "code",
   "execution_count": null,
   "id": "6b46d6fb",
   "metadata": {},
   "outputs": [],
   "source": [
    "!date\n"
   ]
  },
  {
   "cell_type": "markdown",
   "id": "df6dc4e3",
   "metadata": {},
   "source": [
    "## Interface Info"
   ]
  },
  {
   "cell_type": "code",
   "execution_count": null,
   "id": "92ffd624",
   "metadata": {},
   "outputs": [],
   "source": [
    "!ip a\n"
   ]
  },
  {
   "cell_type": "markdown",
   "id": "b261f854",
   "metadata": {},
   "source": [
    "# Web"
   ]
  },
  {
   "cell_type": "markdown",
   "id": "204a41c0",
   "metadata": {},
   "source": [
    "## Screenshot"
   ]
  },
  {
   "cell_type": "code",
   "execution_count": null,
   "id": "c95230df",
   "metadata": {},
   "outputs": [],
   "source": [
    "import shutil\n",
    "from pathlib import Path\n",
    "home = str(Path.home())\n",
    "\n",
    "os.system(\"docker run -u root --shm-size 1G --rm -v \\\"\" + os.getcwd() + \"/tools/puppeteer:/screenshots\\\" alekzonder/puppeteer:latest screenshot \" + https_target + \":\" + str(port) + \" 1024x768\")\n",
    "if not os.path.isfile(\"tools/puppeteer/screenshot_1024_768.png\"):\n",
    "    shutil.copyfile(home + \"/git/nixos/resources/404.png\", \"tools/puppeteer/screenshot_1024_768.png\")\n"
   ]
  },
  {
   "cell_type": "markdown",
   "id": "df11a3c5",
   "metadata": {},
   "source": [
    "![Target screenshot](tools/puppeteer/screenshot_1024_768.png)\n"
   ]
  },
  {
   "cell_type": "markdown",
   "id": "3edefb1e",
   "metadata": {},
   "source": [
    "## Corsy"
   ]
  },
  {
   "cell_type": "code",
   "execution_count": null,
   "id": "7cc53945",
   "metadata": {},
   "outputs": [],
   "source": [
    "!python \"/home/user/git/pentest-tools/Corsy/corsy.py\" -u {https_target}:{port}\n"
   ]
  },
  {
   "cell_type": "markdown",
   "id": "bc0ec38d",
   "metadata": {},
   "source": [
    "## WhatWeb"
   ]
  },
  {
   "cell_type": "code",
   "execution_count": null,
   "id": "36cfe5f1",
   "metadata": {
    "scrolled": true
   },
   "outputs": [],
   "source": [
    "!docker run --rm guidelacour/whatweb ./whatweb {https_target}:{port}\n"
   ]
  },
  {
   "cell_type": "markdown",
   "id": "835361b4",
   "metadata": {},
   "source": [
    "## Nuclei"
   ]
  },
  {
   "cell_type": "code",
   "execution_count": null,
   "id": "8c300b96",
   "metadata": {},
   "outputs": [],
   "source": [
    "!docker run --rm -v \"`pwd`:/mnt projectdiscovery/nuclei\" -u {https_target}:{port}\n"
   ]
  },
  {
   "cell_type": "markdown",
   "id": "a6bbe6d9",
   "metadata": {},
   "source": [
    "# Discovery"
   ]
  },
  {
   "cell_type": "markdown",
   "id": "655068d7",
   "metadata": {},
   "source": [
    "## httpx"
   ]
  },
  {
   "cell_type": "code",
   "execution_count": null,
   "id": "745a2943",
   "metadata": {},
   "outputs": [],
   "source": [
    "!echo {target} | httpx -silent -status-code -title -tech-detect -ip -asn\n"
   ]
  },
  {
   "cell_type": "markdown",
   "id": "1c2dde43",
   "metadata": {},
   "source": [
    "## Subfinder"
   ]
  },
  {
   "cell_type": "code",
   "execution_count": null,
   "id": "cc2d815a",
   "metadata": {},
   "outputs": [],
   "source": [
    "!subfinder -d {top_target} -silent -active -oI -oJ -o tools/subfinder/results.txt 2>&1 >/dev/null\n"
   ]
  },
  {
   "cell_type": "code",
   "execution_count": null,
   "id": "6bd411f8",
   "metadata": {},
   "outputs": [],
   "source": [
    "!cat tools/subfinder/results.txt | jq -r '\"Domain:  \\(.host)\\nIP addr: \\(.ip)\\n\"'\n"
   ]
  },
  {
   "cell_type": "markdown",
   "id": "1e834531",
   "metadata": {},
   "source": [
    "## amass"
   ]
  },
  {
   "cell_type": "code",
   "execution_count": null,
   "id": "68b98133",
   "metadata": {},
   "outputs": [],
   "source": [
    "!amass enum -silent -nocolor -active -json tools/amass/results.txt -d {top_target} -p {port}\n"
   ]
  },
  {
   "cell_type": "code",
   "execution_count": null,
   "id": "e2ff7de4",
   "metadata": {},
   "outputs": [],
   "source": [
    "!cat tools/amass/results.txt | jq -r '\"##### \\(.name)\\nIP addr: \\(.addresses|.[].ip)\\nCIDR: \\(.addresses|.[].cidr)\\nASN: \\(.addresses|.[].asn)\\nDesc: \\(.addresses|.[].desc)\\n\"'\n"
   ]
  },
  {
   "cell_type": "markdown",
   "id": "a7b46010",
   "metadata": {},
   "source": [
    "## theHarvester"
   ]
  },
  {
   "cell_type": "code",
   "execution_count": null,
   "id": "c0872fa4",
   "metadata": {
    "scrolled": true
   },
   "outputs": [],
   "source": [
    "!docker run --rm -v \"`pwd`/tools/theharvester:/mnt\" simonthomas/theharvester:latest theharvester -d $top_target -b all -f /mnt/results.html\n"
   ]
  },
  {
   "cell_type": "markdown",
   "id": "b0e619d7",
   "metadata": {},
   "source": [
    "## ctfr"
   ]
  },
  {
   "cell_type": "code",
   "execution_count": null,
   "id": "32fe500d",
   "metadata": {},
   "outputs": [],
   "source": [
    "!docker run --rm -v \"`pwd`/tools/ctfr/:/mnt\" unapibageek/ctfr -d $top_target -o /mnt/results.txt\n"
   ]
  },
  {
   "cell_type": "markdown",
   "id": "fd1291f5",
   "metadata": {},
   "source": [
    "## photon"
   ]
  },
  {
   "cell_type": "code",
   "execution_count": null,
   "id": "34cea7d3",
   "metadata": {},
   "outputs": [],
   "source": [
    "!photon --keys -u {https_target} -l 3 -t 100 --wayback -o tools/photon/{target}\n"
   ]
  },
  {
   "cell_type": "markdown",
   "id": "8a354de7",
   "metadata": {},
   "source": [
    "### external.txt"
   ]
  },
  {
   "cell_type": "code",
   "execution_count": null,
   "id": "4c5105f5",
   "metadata": {
    "scrolled": false
   },
   "outputs": [],
   "source": [
    "read_file(\"tools/photon/\" + target + \"/external.txt\")\n"
   ]
  },
  {
   "cell_type": "markdown",
   "id": "8c3169ba",
   "metadata": {},
   "source": [
    "### files.txt"
   ]
  },
  {
   "cell_type": "code",
   "execution_count": null,
   "id": "fd1a5fa6",
   "metadata": {},
   "outputs": [],
   "source": [
    "read_file(\"tools/photon/\" + target + \"/files.txt\")\n"
   ]
  },
  {
   "cell_type": "markdown",
   "id": "ac01db1e",
   "metadata": {},
   "source": [
    "### fuzzable.txt"
   ]
  },
  {
   "cell_type": "code",
   "execution_count": null,
   "id": "c9adc2fd",
   "metadata": {},
   "outputs": [],
   "source": [
    "read_file(\"tools/photon/\" + target + \"/fuzzable.txt\")\n"
   ]
  },
  {
   "cell_type": "markdown",
   "id": "943758c2",
   "metadata": {},
   "source": [
    "### intel.txt"
   ]
  },
  {
   "cell_type": "code",
   "execution_count": null,
   "id": "ac981a1b",
   "metadata": {},
   "outputs": [],
   "source": [
    "read_file(\"tools/photon/\" + target + \"/intel.txt\")\n"
   ]
  },
  {
   "cell_type": "markdown",
   "id": "d1f710c2",
   "metadata": {},
   "source": [
    "### internal.txt"
   ]
  },
  {
   "cell_type": "code",
   "execution_count": null,
   "id": "a9701e49",
   "metadata": {},
   "outputs": [],
   "source": [
    "!cat tools/photon/{target}/internal.txt | httpx -silent -status-code -location -title -tech-detect -cl -ct -fc 401,403,404\n"
   ]
  },
  {
   "cell_type": "markdown",
   "id": "85edd93c",
   "metadata": {},
   "source": [
    "### scripts.txt"
   ]
  },
  {
   "cell_type": "code",
   "execution_count": null,
   "id": "9a02a6a6",
   "metadata": {},
   "outputs": [],
   "source": [
    "read_file(\"tools/photon/\" + target + \"/scripts.txt\")\n"
   ]
  },
  {
   "cell_type": "markdown",
   "id": "f82dc603",
   "metadata": {},
   "source": [
    "## ffuf (subdomains)"
   ]
  },
  {
   "cell_type": "code",
   "execution_count": null,
   "id": "c755d6d7",
   "metadata": {},
   "outputs": [],
   "source": [
    "!echo https://{ffuf_subdomain_target}\n",
    "!ffuf -s -of all -w /home/user/git/wordlists/SecLists/Discovery/DNS/subdomains-top1million-5000.txt -u https://{ffuf_subdomain_target} -od tools/ffuf_subdomain\n",
    "!echo \"`find tools/ffuf_subdomain -type f | wc -l` responses worth investigating..\"\n"
   ]
  },
  {
   "cell_type": "markdown",
   "id": "6078eb74",
   "metadata": {},
   "source": [
    "## ffuf (directory brute)\n"
   ]
  },
  {
   "cell_type": "code",
   "execution_count": null,
   "id": "19bb27ed",
   "metadata": {},
   "outputs": [],
   "source": [
    "!echo https://{ffuf_directory_brute}\n",
    "!ffuf -s -ac -sf -of all -w /home/user/git/wordlists/SecLists/Discovery/Web-Content/raft-large-directories.txt -u https://{ffuf_directory_brute} -od tools/ffuf_directory\n",
    "!echo \"`find tools/ffuf_directory -type f | wc -l` responses worth investigating..\"\n",
    "!find tools/ffuf_directory -type f -exec grep -hE 'GET |^HTTP/' {} \\; -exec echo \\;\n"
   ]
  },
  {
   "cell_type": "markdown",
   "id": "af3ae498",
   "metadata": {},
   "source": [
    "## hakrawler"
   ]
  },
  {
   "cell_type": "code",
   "execution_count": null,
   "id": "5017cccf",
   "metadata": {},
   "outputs": [],
   "source": [
    "!echo {https_target} | hakrawler | sort | uniq\n"
   ]
  },
  {
   "cell_type": "markdown",
   "id": "b9924d6f",
   "metadata": {},
   "source": [
    "## sn1per"
   ]
  },
  {
   "cell_type": "code",
   "execution_count": null,
   "id": "f5d2a8dd",
   "metadata": {},
   "outputs": [],
   "source": [
    "!docker run -v \"`pwd`/tools/sn1per:/usr/share/sniper/loot/workspace/\" --rm -it xer0dayz/sn1per sniper -t {target} 2>&1 >/dev/null\n"
   ]
  },
  {
   "cell_type": "code",
   "execution_count": null,
   "id": "a763925c",
   "metadata": {},
   "outputs": [],
   "source": [
    "!find \"$PWD/tools/sn1per/\"*\"/output\" -type f -exec cat {} \\;\n"
   ]
  },
  {
   "cell_type": "markdown",
   "id": "83213c93",
   "metadata": {},
   "source": [
    "## Raccoon"
   ]
  },
  {
   "cell_type": "code",
   "execution_count": null,
   "id": "9805a2e7",
   "metadata": {},
   "outputs": [],
   "source": [
    "!docker run --rm evyatarmeged/raccoon:latest {https_target} --ignored-response-codes \"301,302,400,4[45/41163]\n",
    ",404,503,504\"\n"
   ]
  },
  {
   "cell_type": "markdown",
   "id": "80e123f2",
   "metadata": {},
   "source": [
    "## Nikto"
   ]
  },
  {
   "cell_type": "code",
   "execution_count": null,
   "id": "373e4673",
   "metadata": {},
   "outputs": [],
   "source": [
    "!docker run -it --rm --net=host -v \"`pwd`/tools/nikto:/mnt/\" sullo/nikto -ask No -nointeractive -Format json -output /mnt/nikto -h {https_target}\n"
   ]
  },
  {
   "cell_type": "markdown",
   "id": "e4bbec23",
   "metadata": {},
   "source": [
    "## Nettacker"
   ]
  },
  {
   "cell_type": "code",
   "execution_count": null,
   "id": "d1906096",
   "metadata": {},
   "outputs": [],
   "source": [
    "!docker run -it --rm -v \"`pwd`/tools/nettacker:/usr/src/owaspnettacker/.data/results/\" nettacker python3 ./nettacker.py -m all -i {https_target}\n"
   ]
  },
  {
   "cell_type": "code",
   "execution_count": 7,
   "id": "ed0c15b5",
   "metadata": {},
   "outputs": [
    {
     "name": "stdout",
     "output_type": "stream",
     "text": [
      "Full Nettacker results in file:///home/user/jupyter/pentest/next/tools/nettacker\r\n"
     ]
    }
   ],
   "source": [
    "!echo \"Full Nettacker results in file://`pwd`/tools/nettacker\""
   ]
  },
  {
   "cell_type": "markdown",
   "id": "0a159a8c",
   "metadata": {},
   "source": [
    "# Scanning"
   ]
  },
  {
   "cell_type": "markdown",
   "id": "b3e99455",
   "metadata": {},
   "source": [
    "## TLS Scan"
   ]
  },
  {
   "cell_type": "code",
   "execution_count": null,
   "id": "02b96c64",
   "metadata": {},
   "outputs": [],
   "source": [
    "!testssl.sh -oA tools/testssl {target}:{port}\n"
   ]
  },
  {
   "cell_type": "markdown",
   "id": "da2b3fa6",
   "metadata": {},
   "source": [
    "# Email Enumeration"
   ]
  },
  {
   "cell_type": "code",
   "execution_count": null,
   "id": "143bb8df",
   "metadata": {},
   "outputs": [],
   "source": [
    "!docker run --rm infoga --domain $top_target --source all --breach -v 2\n"
   ]
  },
  {
   "cell_type": "markdown",
   "id": "6318c562",
   "metadata": {},
   "source": [
    "# Manual"
   ]
  },
  {
   "cell_type": "markdown",
   "id": "1f1dd966",
   "metadata": {},
   "source": [
    "## OpenVAS"
   ]
  },
  {
   "cell_type": "markdown",
   "id": "85ede640",
   "metadata": {},
   "source": [
    "https://localhost:8030/login/login.html (admin / admin)"
   ]
  },
  {
   "cell_type": "markdown",
   "id": "f7f2817b",
   "metadata": {},
   "source": [
    "## Spiderfoot"
   ]
  },
  {
   "cell_type": "markdown",
   "id": "51a017dc",
   "metadata": {},
   "source": [
    "http://localhost:8060/"
   ]
  },
  {
   "cell_type": "markdown",
   "id": "2e1ba49c",
   "metadata": {},
   "source": [
    "# End Time"
   ]
  },
  {
   "cell_type": "code",
   "execution_count": null,
   "id": "a5f7b13f",
   "metadata": {},
   "outputs": [],
   "source": [
    "!date\n"
   ]
  }
 ],
 "metadata": {
  "kernelspec": {
   "display_name": "Python 3",
   "language": "python",
   "name": "python3"
  },
  "language_info": {
   "codemirror_mode": {
    "name": "ipython",
    "version": 3
   },
   "file_extension": ".py",
   "mimetype": "text/x-python",
   "name": "python",
   "nbconvert_exporter": "python",
   "pygments_lexer": "ipython3",
   "version": "3.9.13"
  }
 },
 "nbformat": 4,
 "nbformat_minor": 5
}
