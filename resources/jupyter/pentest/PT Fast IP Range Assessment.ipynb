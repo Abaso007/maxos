{
 "cells": [
  {
   "cell_type": "markdown",
   "id": "eca86b33",
   "metadata": {},
   "source": [
    "# Fast IP Range Assessment\n",
    "- Author: Aidan Marlin\n",
    "- Date: 20220610\n",
    "- Version: 1.1\n",
    "- Description: Jupyter Notebook to automate the execution of key infrastructure scans"
   ]
  },
  {
   "cell_type": "code",
   "execution_count": null,
   "id": "5b06862e",
   "metadata": {},
   "outputs": [],
   "source": [
    "ip_range = \"192.168.0.0/24\"\n",
    "\n",
    "### No need to modify from here\n",
    "import socket\n",
    "import os\n",
    "\n",
    "os.environ[\"PATH\"] = os.environ[\"PATH\"] + \":/run/current-system/sw/bin\"\n",
    "\n",
    "!mkdir -p tools/masscan\n",
    "!mkdir -p tools/nmap\n",
    "!mkdir -p tools/puppeteer\n",
    "\n",
    "def read_file(location):\n",
    "    with open(location) as f:\n",
    "        text = f.read()\n",
    "        print(text)\n"
   ]
  },
  {
   "cell_type": "markdown",
   "id": "5b05b273",
   "metadata": {},
   "source": [
    "# Target"
   ]
  },
  {
   "cell_type": "code",
   "execution_count": null,
   "id": "d085f9e6",
   "metadata": {},
   "outputs": [],
   "source": [
    "print(ip_range)\n"
   ]
  },
  {
   "cell_type": "markdown",
   "id": "db3a3b53",
   "metadata": {},
   "source": [
    "# Pentester Details"
   ]
  },
  {
   "cell_type": "markdown",
   "id": "a28cd36d",
   "metadata": {},
   "source": [
    "## IP Address"
   ]
  },
  {
   "cell_type": "code",
   "execution_count": null,
   "id": "10bfd9cf",
   "metadata": {},
   "outputs": [],
   "source": [
    "!curl https://ifconfig.me/\n"
   ]
  },
  {
   "cell_type": "markdown",
   "id": "dd1d9f0a",
   "metadata": {},
   "source": [
    "## Start Time"
   ]
  },
  {
   "cell_type": "code",
   "execution_count": null,
   "id": "6b46d6fb",
   "metadata": {},
   "outputs": [],
   "source": [
    "!date\n"
   ]
  },
  {
   "cell_type": "markdown",
   "id": "df6dc4e3",
   "metadata": {},
   "source": [
    "## Interface Info"
   ]
  },
  {
   "cell_type": "code",
   "execution_count": null,
   "id": "92ffd624",
   "metadata": {},
   "outputs": [],
   "source": [
    "!ip a\n"
   ]
  },
  {
   "cell_type": "markdown",
   "id": "b261f854",
   "metadata": {},
   "source": [
    "# Discovery"
   ]
  },
  {
   "cell_type": "markdown",
   "id": "204a41c0",
   "metadata": {},
   "source": [
    "## Ping Scan"
   ]
  },
  {
   "cell_type": "code",
   "execution_count": null,
   "id": "b3d82cc3",
   "metadata": {},
   "outputs": [],
   "source": [
    "!nmap -sn -T5 {ip_range} -v0 -oA tools/nmap/internal_ping_scan\n"
   ]
  },
  {
   "cell_type": "code",
   "execution_count": null,
   "id": "1953c20a",
   "metadata": {},
   "outputs": [],
   "source": [
    "read_file(\"tools/nmap/internal_ping_scan.gnmap\")"
   ]
  },
  {
   "cell_type": "markdown",
   "id": "5b91e5ab",
   "metadata": {},
   "source": [
    "## Fast TCP Port Scan"
   ]
  },
  {
   "cell_type": "code",
   "execution_count": null,
   "id": "3ba3e38a",
   "metadata": {},
   "outputs": [],
   "source": [
    "!sudo masscan --top-ports 100 --rate=1000 -oJ tools/masscan/tcp_top_100_json.txt -oG tools/masscan/tcp_top_100_grep.txt {ip_range}\n"
   ]
  },
  {
   "cell_type": "code",
   "execution_count": null,
   "id": "28727919",
   "metadata": {},
   "outputs": [],
   "source": [
    "read_file(\"tools/masscan/tcp_top_100_grep.txt\")\n"
   ]
  },
  {
   "cell_type": "markdown",
   "id": "deb4e8cb",
   "metadata": {},
   "source": [
    "## Fast UDP Port Scan"
   ]
  },
  {
   "cell_type": "code",
   "execution_count": null,
   "id": "21d2e742",
   "metadata": {},
   "outputs": [],
   "source": [
    "!sudo nmap -T5 -sU --top-ports 100 -v0 {ip_range} -oA tools/nmap/udp_top_100\n"
   ]
  },
  {
   "cell_type": "code",
   "execution_count": null,
   "id": "ae6de562",
   "metadata": {},
   "outputs": [],
   "source": [
    "read_file(\"tools/nmap/udp_top_100.gnmap\")\n"
   ]
  },
  {
   "cell_type": "markdown",
   "id": "f76cf3bc",
   "metadata": {},
   "source": [
    "## ivre"
   ]
  },
  {
   "cell_type": "code",
   "execution_count": null,
   "id": "bf75e47f",
   "metadata": {},
   "outputs": [],
   "source": [
    "!docker-compose -f /home/user/git/pentest-tools/ivre/docker/docker-compose.yml up -d\n"
   ]
  },
  {
   "cell_type": "code",
   "execution_count": null,
   "id": "136ba15d",
   "metadata": {},
   "outputs": [],
   "source": [
    "ivre_container_id = os.popen(\"docker ps -f 'name=ivreclient' --format '{{.ID}}'\").read().rstrip()\n",
    "print(ivre_container_id)\n"
   ]
  },
  {
   "cell_type": "code",
   "execution_count": null,
   "id": "89247413",
   "metadata": {},
   "outputs": [],
   "source": [
    "!docker exec -t $ivre_container_id ivre runscans --network $ip_range\n"
   ]
  },
  {
   "cell_type": "code",
   "execution_count": null,
   "id": "801a54fd",
   "metadata": {},
   "outputs": [],
   "source": [
    "!docker exec -t $ivre_container_id ivre getwebdata\n"
   ]
  },
  {
   "cell_type": "code",
   "execution_count": null,
   "id": "f92677d8",
   "metadata": {},
   "outputs": [],
   "source": [
    "!docker exec -t $ivre_container_id ivre scan2db -r /scans\n"
   ]
  },
  {
   "cell_type": "code",
   "execution_count": null,
   "id": "4640723f",
   "metadata": {},
   "outputs": [],
   "source": [
    "!docker exec -t $ivre_container_id ivre db2view\n"
   ]
  },
  {
   "cell_type": "code",
   "execution_count": null,
   "id": "e2827564",
   "metadata": {},
   "outputs": [],
   "source": [
    "import shutil\n",
    "from pathlib import Path\n",
    "home = str(Path.home())\n",
    "\n",
    "os.system(\"docker run --add-host=host.docker.internal:host-gateway -u root --shm-size 1G --rm -v \\\"\" + os.getcwd() + \"/tools/puppeteer:/screenshots\\\" alekzonder/puppeteer:latest full_screenshot http://host.docker.internal/ 1024x768\")\n",
    "if not os.path.isfile(\"tools/puppeteer/full_screenshot_1024_768.png\"):\n",
    "    shutil.copyfile(home + \"/git/nixos/resources/404.png\", \"tools/puppeteer/full_screenshot_1024_768.png\")\n"
   ]
  },
  {
   "cell_type": "markdown",
   "id": "7d3b823a",
   "metadata": {},
   "source": [
    "![Target screenshot](tools/puppeteer/full_screenshot_1024_768.png)\n"
   ]
  },
  {
   "cell_type": "markdown",
   "id": "1260b69e",
   "metadata": {},
   "source": [
    "Results at http://localhost/"
   ]
  },
  {
   "cell_type": "markdown",
   "id": "5373e7a1",
   "metadata": {},
   "source": [
    "# Exploit"
   ]
  },
  {
   "cell_type": "markdown",
   "id": "fdc9b4af",
   "metadata": {},
   "source": [
    "## Searchsploit"
   ]
  },
  {
   "cell_type": "code",
   "execution_count": null,
   "id": "83ed3530",
   "metadata": {},
   "outputs": [],
   "source": [
    "!docker run --rm -v \"$PWD:/mnt\" booyaabes/kali-linux-full searchsploit -v --nmap /mnt/tools/nmap/udp_top_100.xml 2>/dev/null\n"
   ]
  },
  {
   "cell_type": "markdown",
   "id": "2e1ba49c",
   "metadata": {},
   "source": [
    "# End Time"
   ]
  },
  {
   "cell_type": "code",
   "execution_count": null,
   "id": "a5f7b13f",
   "metadata": {},
   "outputs": [],
   "source": [
    "!date\n"
   ]
  }
 ],
 "metadata": {
  "kernelspec": {
   "display_name": "Python 3",
   "language": "python",
   "name": "python3"
  },
  "language_info": {
   "codemirror_mode": {
    "name": "ipython",
    "version": 3
   },
   "file_extension": ".py",
   "mimetype": "text/x-python",
   "name": "python",
   "nbconvert_exporter": "python",
   "pygments_lexer": "ipython3",
   "version": "3.9.13"
  }
 },
 "nbformat": 4,
 "nbformat_minor": 5
}
