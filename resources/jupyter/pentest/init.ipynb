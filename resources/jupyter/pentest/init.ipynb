{
 "cells": [
  {
   "cell_type": "code",
   "execution_count": 17,
   "id": "4cdfbeba",
   "metadata": {},
   "source": [
    "\n",
    "client_name = \"PT 202206 Test\"\n",
    "\n",
    "from distutils.dir_util import copy_tree\n",
    "copy_tree(\"../base\", \"../\" + client_name)\n"
   ]
  },
  {
   "cell_type": "code",
   "execution_count": null,
   "id": "f427f6a5",
   "metadata": {},
   "outputs": [],
   "source": []
  }
 ],
 "metadata": {
  "kernelspec": {
   "display_name": "Python 3",
   "language": "python",
   "name": "python3"
  },
  "language_info": {
   "codemirror_mode": {
    "name": "ipython",
    "version": 3
   },
   "file_extension": ".py",
   "mimetype": "text/x-python",
   "name": "python",
   "nbconvert_exporter": "python",
   "pygments_lexer": "ipython3",
   "version": "3.9.13"
  }
 },
 "nbformat": 4,
 "nbformat_minor": 5
}
